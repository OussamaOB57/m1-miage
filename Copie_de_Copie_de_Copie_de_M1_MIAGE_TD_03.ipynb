{
  "nbformat": 4,
  "nbformat_minor": 0,
  "metadata": {
    "colab": {
      "provenance": [],
      "include_colab_link": true
    },
    "kernelspec": {
      "name": "python3",
      "display_name": "Python 3"
    }
  },
  "cells": [
    {
      "cell_type": "markdown",
      "metadata": {
        "id": "view-in-github",
        "colab_type": "text"
      },
      "source": [
        "<a href=\"https://colab.research.google.com/github/OussamaOB57/m1-miage/blob/Oussama-BOULIDAME/Copie_de_Copie_de_Copie_de_M1_MIAGE_TD_03.ipynb\" target=\"_parent\"><img src=\"https://colab.research.google.com/assets/colab-badge.svg\" alt=\"Open In Colab\"/></a>"
      ]
    },
    {
      "cell_type": "markdown",
      "metadata": {
        "id": "597Hu82gSNCZ"
      },
      "source": [
        "<img src=\"https://upload.wikimedia.org/wikipedia/fr/0/0b/Polytech_Lyon_logo.png\" alt=\"drawing\" height=\"200\"/>\n",
        "\n",
        "# Algorithmique Avancée & Programmation en Python\n",
        "---\n",
        "\n"
      ]
    },
    {
      "cell_type": "markdown",
      "source": [
        "# TD 03\n",
        "\n",
        "Intro aux traitement de données\n",
        "\n",
        "```python\n",
        "print(\"Hello, friend! It's been a while...\")\n",
        "```\n",
        " \n",
        "Elements à consulter:\n",
        "\n",
        "\n",
        "Doc                                   |             Link\n",
        "--------------------------------------|------------------------------------\n",
        "Python en 30 jours | [>link<](https://moncoachdata.com/courses/apprendre-python-en-30-jours/)\n",
        "Get started with pandas | [>link<](https://colab.research.google.com/notebooks/snippets/pandas.ipynb)"
      ],
      "metadata": {
        "id": "EA-XK862WiMt"
      }
    },
    {
      "cell_type": "markdown",
      "source": [
        "## Intro\n",
        "\n",
        "Le premier bloc devrait toujours contenir les installs/imports dont on aura besoin pour le reste"
      ],
      "metadata": {
        "id": "Y1g4EgT41MqJ"
      }
    },
    {
      "cell_type": "code",
      "source": [
        "# Installs\n",
        "!pip install emoji --quiet"
      ],
      "metadata": {
        "id": "yjiE8c51VoT0",
        "colab": {
          "base_uri": "https://localhost:8080/"
        },
        "outputId": "dd8bb4ea-087f-47d2-fe89-959817a8b970"
      },
      "execution_count": null,
      "outputs": [
        {
          "output_type": "stream",
          "name": "stdout",
          "text": [
            "\u001b[?25l\r\u001b[K     |█▍                              | 10 kB 26.6 MB/s eta 0:00:01\r\u001b[K     |██▊                             | 20 kB 11.4 MB/s eta 0:00:01\r\u001b[K     |████                            | 30 kB 15.7 MB/s eta 0:00:01\r\u001b[K     |█████▍                          | 40 kB 7.8 MB/s eta 0:00:01\r\u001b[K     |██████▉                         | 51 kB 8.0 MB/s eta 0:00:01\r\u001b[K     |████████▏                       | 61 kB 9.4 MB/s eta 0:00:01\r\u001b[K     |█████████▌                      | 71 kB 9.9 MB/s eta 0:00:01\r\u001b[K     |██████████▉                     | 81 kB 9.0 MB/s eta 0:00:01\r\u001b[K     |████████████▎                   | 92 kB 10.0 MB/s eta 0:00:01\r\u001b[K     |█████████████▋                  | 102 kB 8.6 MB/s eta 0:00:01\r\u001b[K     |███████████████                 | 112 kB 8.6 MB/s eta 0:00:01\r\u001b[K     |████████████████▎               | 122 kB 8.6 MB/s eta 0:00:01\r\u001b[K     |█████████████████▊              | 133 kB 8.6 MB/s eta 0:00:01\r\u001b[K     |███████████████████             | 143 kB 8.6 MB/s eta 0:00:01\r\u001b[K     |████████████████████▍           | 153 kB 8.6 MB/s eta 0:00:01\r\u001b[K     |█████████████████████▊          | 163 kB 8.6 MB/s eta 0:00:01\r\u001b[K     |███████████████████████▏        | 174 kB 8.6 MB/s eta 0:00:01\r\u001b[K     |████████████████████████▌       | 184 kB 8.6 MB/s eta 0:00:01\r\u001b[K     |█████████████████████████▉      | 194 kB 8.6 MB/s eta 0:00:01\r\u001b[K     |███████████████████████████▏    | 204 kB 8.6 MB/s eta 0:00:01\r\u001b[K     |████████████████████████████▋   | 215 kB 8.6 MB/s eta 0:00:01\r\u001b[K     |██████████████████████████████  | 225 kB 8.6 MB/s eta 0:00:01\r\u001b[K     |███████████████████████████████▎| 235 kB 8.6 MB/s eta 0:00:01\r\u001b[K     |████████████████████████████████| 240 kB 8.6 MB/s \n",
            "\u001b[?25h  Building wheel for emoji (setup.py) ... \u001b[?25l\u001b[?25hdone\n"
          ]
        }
      ]
    },
    {
      "cell_type": "code",
      "source": [
        "# Imports\n",
        "import os\n",
        "import json\n",
        "from random import randint\n",
        "# import pandas as pd\n",
        "# import numpy as np\n",
        "from getpass import getpass\n",
        "import emoji\n",
        "\n",
        "print(emoji.emojize('Python is awesome :thumbs_up:'))"
      ],
      "metadata": {
        "id": "JhT-50uwz72F",
        "colab": {
          "base_uri": "https://localhost:8080/"
        },
        "outputId": "eda0f2a6-dcab-4da3-b701-7844969c5c37"
      },
      "execution_count": null,
      "outputs": [
        {
          "output_type": "stream",
          "name": "stdout",
          "text": [
            "Python is awesome 👍\n"
          ]
        }
      ]
    },
    {
      "cell_type": "markdown",
      "source": [
        "##EX01\n",
        "### Révision boucles / compréhension de listes\n",
        "\n",
        "Avec l'usage de la boucle `for`, répondez aux questions ci-dessous\n",
        "\n",
        "\n",
        "> PS: Code pris et modifié à partir d'exo sur github"
      ],
      "metadata": {
        "id": "5jpD7nr9NrKR"
      }
    },
    {
      "cell_type": "code",
      "source": [
        "##############################################################\n",
        "nombres = [1, 21, 5, 44, 4, 9, 5, 83, 29, 31, 25, 38]\n",
        "nombres_pairs = []\n",
        "i=1\n",
        "for i in range(len(nombres)):\n",
        "  if (nombres[i]%2)==0:\n",
        "    nombres_pairs.append(nombres[i])\n",
        "print(nombres_pairs)\n",
        "\n",
        "##############################################################\n",
        "\n",
        "nombres = range(-10, 10)\n",
        "nombres_positifs = []\n",
        "i=1\n",
        "for i in range(len(nombres)):\n",
        "  if nombres[i]>0:\n",
        "    nombres_positifs.append(nombres[i])\n",
        "print(nombres_positifs)\n",
        "\n",
        "##############################################################\n",
        "\n",
        "nombres = range(5)\n",
        "nombres_x2 = []\n",
        "i = 0\n",
        "for i in range(len(nombres)):\n",
        "  x2 = nombres[i]*2\n",
        "  nombres_x2.append(x2)\n",
        "print(nombres_x2)"
      ],
      "metadata": {
        "id": "8p4JXCtEyQBX",
        "outputId": "23b2f544-bfd7-4aa6-a2d2-50a4488b4865",
        "colab": {
          "base_uri": "https://localhost:8080/"
        }
      },
      "execution_count": null,
      "outputs": [
        {
          "output_type": "stream",
          "name": "stdout",
          "text": [
            "[44, 4, 38]\n",
            "[1, 2, 3, 4, 5, 6, 7, 8, 9]\n",
            "[0, 2, 4, 6, 8]\n"
          ]
        }
      ]
    },
    {
      "cell_type": "markdown",
      "source": [
        "### PART 2\n",
        "Changez le code ci-dessus, et remplacez les blocs `for` par des [compréhensions de listes](https://duckduckgo.com/?q=list+comprehension+python)"
      ],
      "metadata": {
        "id": "BQBEhammPFtE"
      }
    },
    {
      "cell_type": "code",
      "source": [
        "nombres = [1, 21, 5, 44, 4, 9, 5, 83, 29, 31, 25, 38]\n",
        "i=1\n",
        "nombres_pairs = [nombres[i] for i in range(len(nombres)) if (nombres[i]%2)==0]\n",
        "print(nombres_pairs)\n",
        "nombres = range(-10, 10)\n",
        "i=1\n",
        "nombres_positifs = [nombres[i] for i in range(len(nombres)) if nombres[i]>0]\n",
        "print(nombres_positifs)\n",
        "nombres = range(5)\n",
        "i=1\n",
        "nombres_x2 = [nombres[i]*2 for i in range(len(nombres))]\n",
        "print(nombres_x2)"
      ],
      "metadata": {
        "id": "zlMvZFGcPEAG",
        "colab": {
          "base_uri": "https://localhost:8080/"
        },
        "outputId": "dad0f103-87be-4461-8716-65d3c5529735"
      },
      "execution_count": null,
      "outputs": [
        {
          "output_type": "stream",
          "name": "stdout",
          "text": [
            "[44, 4, 38]\n",
            "[1, 2, 3, 4, 5, 6, 7, 8, 9]\n",
            "[0, 2, 4, 6, 8]\n"
          ]
        }
      ]
    },
    {
      "cell_type": "markdown",
      "source": [
        "##EX02\n",
        "### Les sets\n",
        "\n",
        "  1. Créez un `set` vide et attribuez-le à une variable.\n",
        "  2. Ajoutez trois éléments à votre ensemble vide en utilisant soit plusieurs appels `add`, soit un seul appel de `update`.\n",
        "\n",
        "  3. Créez un deuxième `set` qui comprend au moins un élément commun avec le premier ensemble.\n",
        "\n",
        "  4. Trouvez l’union, la différence et l’intersection des deux `set`. >>\n",
        "Imprimez les résultats de chaque opération.\n",
        "\n",
        "  5. Créez une `set` de nombres en utilisant `range()`, puis demandez à l’utilisateur d’entrer un nombre. Indiquez à l’utilisateur si son nombre se situe ou non dans la plage de valeurs que vous avez spécifiée.\n",
        "\n",
        ">Bonus: \n",
        ">>Indiquer à l’utilisateur si son nombre était trop élevé ou trop bas."
      ],
      "metadata": {
        "id": "cN_XcFu1dG5V"
      }
    },
    {
      "cell_type": "code",
      "source": [],
      "metadata": {
        "id": "im9bmyL2V1O1"
      },
      "execution_count": null,
      "outputs": []
    },
    {
      "cell_type": "code",
      "source": [
        "# Code here\n",
        "s1 = set()\n",
        "s1.update(['ananas','pomme','avocat'])\n",
        "s2=set()\n",
        "s2.update(['pomme','abricot','banane'])\n",
        "s3 = s1.union(s2)\n",
        "s4 = s1.intersection(s2)\n",
        "print(s3)\n",
        "print(s4)\n",
        "s0 = set()\n",
        "s0.update(range(20))\n",
        "print(s0)\n",
        "x = int(input('donnez un nombre : '))\n",
        "print(x)\n",
        "e = x in s0\n",
        "print(e)\n",
        "if e==True:\n",
        "  print(f'le nombre {x} est dans s0')\n",
        "else:\n",
        "  print(f\"le nombre {x} n'est pas dans s0\")\n",
        "\n"
      ],
      "metadata": {
        "id": "yzbCm94SwV6g",
        "colab": {
          "base_uri": "https://localhost:8080/"
        },
        "outputId": "cd2268ce-77d6-4c26-942f-b0fcee64e00b"
      },
      "execution_count": null,
      "outputs": [
        {
          "output_type": "stream",
          "name": "stdout",
          "text": [
            "{'ananas', 'abricot', 'pomme', 'avocat', 'banane'}\n",
            "{'pomme'}\n",
            "{0, 1, 2, 3, 4, 5, 6, 7, 8, 9, 10, 11, 12, 13, 14, 15, 16, 17, 18, 19}\n",
            "donnez un nombre : 78\n",
            "78\n",
            "False\n",
            "le nombre 78 n'est pas dans s0\n"
          ]
        }
      ]
    },
    {
      "cell_type": "markdown",
      "source": [
        "## EX03\n",
        "### Revision listes\n",
        "1. Créez une liste de séries (`binge_watch_list`) contenant un seul tuple. Le tuple doit contenir le titre de la série, la plateforme de streaming (légal), le nombre d'épisodes de la série, l'année de sortie et une note /10.\n",
        "\n",
        "2. Créez une fonction (`input_series`) qui receuil des informations sur d'autres séries à l'aide de la fonction native `input`. Et nous retourne un tuple. \\n\n",
        "Tout les champs sont obligatoires.\n",
        "\n",
        "4. Utilisez `f-string` pour imprimer le nom et l’année de sortie de la série qu'on vient d'input.\n",
        "\n",
        "3. Alimenter la liste (`binge_watch_list`) avec le retour de la fonction (`input_series`) \\n\n",
        "Assurez vous que l'ordre des champs soit le même que dans (`binge_watch_list`).\n",
        "\n",
        "\n",
        "5. Afficher le nom et l’année de sortie de toutes les séries dans `binge_watch_list`.\n",
        "\n",
        "> Bonus:\n",
        "\n",
        "6. Supprimez la série la moins bien noté de `binge_watch_list`. Utilisez la méthode de votre choix."
      ],
      "metadata": {
        "id": "SHsrGdy-5AZK"
      }
    },
    {
      "cell_type": "code",
      "source": [
        "# Code here\n",
        "t1=tuple(('Game of thrones', 'HBO', 40, 2009,11))\n",
        "binge_watch_list=[]\n",
        "binge_watch_list.append(t1)\n",
        "print(f'{binge_watch_list[0][1]}')\n",
        "def input_series():\n",
        "  t=input('donnez moi le titre de la série :')\n",
        "  while t==\"\":\n",
        "    t=input('donnez moi le titre de la série :')\n",
        "  p=input('donnez moi la plateforme de streaming :')\n",
        "  while p==\"\":\n",
        "    p=input('donnez moi la plateforme de streaming :')\n",
        "  e=input(\"donnez moi le nombre d'épisodes :\")\n",
        "  while not(e.isdigit()) or e==\"\" :\n",
        "    e=input(\"donnez moi le nombre d'épisodes :\")\n",
        "  a=input(\"donnez moi l'année de sortie :\")\n",
        "  while not(a.isdigit()) or a==\"\":\n",
        "    a=input(\"donnez moi l'année de sortie :\")\n",
        "  n=input(\"donnez moi une note /10 pour cette série :\")\n",
        "  while not(n.isdigit()) or n==\"\":\n",
        "    n=input(\"donnez moi une note /10 pour cette série :\")\n",
        "  t2=tuple((t,p,int(e),int(a),int(n)))\n",
        "  print(f'la serie {t2[0]} est sortie en {t2[3]}.')\n",
        "  binge_watch_list.append(t2)\n",
        "  i=0\n",
        "  for i in range(len(binge_watch_list)):\n",
        "    print(f\"la serie {binge_watch_list[i][0]} est sortie en {binge_watch_list[i][3]}.\")\n",
        "  \n",
        "\n",
        "input_series()\n",
        "\n"
      ],
      "metadata": {
        "id": "jIatRWhm5Xzo",
        "colab": {
          "base_uri": "https://localhost:8080/"
        },
        "outputId": "9344b1f0-8058-413a-f771-912808e801c6"
      },
      "execution_count": null,
      "outputs": [
        {
          "output_type": "stream",
          "name": "stdout",
          "text": [
            "HBO\n",
            "donnez moi le titre de la série :suits\n",
            "donnez moi la plateforme de streaming :netflix\n",
            "donnez moi le nombre d'épisodes :47\n",
            "donnez moi l'année de sortie :2010\n",
            "donnez moi une note /10 pour cette série :10\n",
            "la serie suits est sortie en 2010.\n",
            "la serie Game of thrones est sortie en 2009.\n",
            "la serie suits est sortie en 2010.\n"
          ]
        }
      ]
    },
    {
      "cell_type": "markdown",
      "source": [
        "Transformer le code ci-dessous de liste a dictionnaire"
      ],
      "metadata": {
        "id": "-Zrebyjbxb89"
      }
    },
    {
      "cell_type": "code",
      "source": [],
      "metadata": {
        "id": "wqwmWD1HxfKF"
      },
      "execution_count": null,
      "outputs": []
    },
    {
      "cell_type": "markdown",
      "source": [
        "## EX04\n",
        "### Révision strings / fonctions\n",
        "Implementer deux fonctions `input_password()` & `password_check(x)` qui :\n",
        "\n",
        "1. `input_password()` fait:\n",
        "    * Demande à l'utilisateur un mot de passe d'au moins 8 caractères, 12 c'est mieux.\n",
        "    * retourne ce dernier\n",
        "\n",
        "2. `password_check(x)` verifie:\n",
        "\n",
        "    * print `mot de passe trop court!` **avec une majuscule sur la première lettre** si la longueur du mot de passe entré est `plus petite que 8`.\n",
        "\n",
        "    * Verifier que le mot de passe soit une combinaison de `lettres majuscules, de lettres minuscules, de chiffres et de symboles.` \n",
        "    > Si le mot de passe manque de répondre à une condition, l'afficher à l'utilisateur\n",
        "\n",
        "    *  Afficher la phrase `\"Mot de passe valide.\"` si le mot de passe répond à **toutes les conditions**.\n",
        "\n",
        "> bonus \n",
        "\n",
        "* Verifier qu'un même mot de passe ne peut pas etre saisie deux fois, ex. utiliser une variable `previous_password`"
      ],
      "metadata": {
        "id": "W3BGjEYaf2UQ"
      }
    },
    {
      "cell_type": "code",
      "source": [
        "# Start from this\n",
        "def input_password():\n",
        "  p = getpass(\"donnez un mot de passe :\")\n",
        "  while(len(p)<8):\n",
        "    p=getpass(\"il faut un mot de passe d'au moins 8 caractères, de préférence 12 ou plus :\")\n",
        "  if len(p)==8:\n",
        "    p=getpass(\"tu peux faire mieux, de préférence 12 caractères ou plus :\")\n",
        "  return p\n",
        "\n",
        "def password_check(x):\n",
        "  special = \"\"\"!\"#$%&'()*+,-./:;<=>?@[\\]^_`{|}~\"\"\"\n",
        "  l, u, p, d = 0, 0, 0, 0\n",
        "  if (len(x) >= 8):\n",
        "    for i in x:\n",
        "        if (i.islower()):\n",
        "            l+=1       \n",
        "        if (i.isupper()):\n",
        "            u+=1\n",
        "        if (i.isdigit()):\n",
        "            d+=1           \n",
        "        if i in special:\n",
        "            p+=1       \n",
        "  if (l>=1 and u>=1 and p>=1 and d>=1 and l+p+u+d==len(x)):\n",
        "    print(\"mot de passe valide\")\n",
        "  else:\n",
        "    if d==0:\n",
        "      print(\"ajoutez des chiffres\")\n",
        "    elif l==0:\n",
        "      print(\"ajoutez des lettres minuscules\")\n",
        "    elif p==0:\n",
        "      print(\"ajoutez des symboles\")\n",
        "    elif u==0:\n",
        "      print(\"ajoutez des lettres majuscules\")\n",
        "    \n",
        "    print(\"mot de passe non valide\")\n",
        "    \n",
        "\n",
        "password_check('azert@1234')\n",
        "\n",
        "  \n"
      ],
      "metadata": {
        "id": "FS2OxAtBf1tB",
        "colab": {
          "base_uri": "https://localhost:8080/"
        },
        "outputId": "ff62dde0-1f20-4730-93e5-8be16cf422a6"
      },
      "execution_count": null,
      "outputs": [
        {
          "output_type": "stream",
          "name": "stdout",
          "text": [
            "ajoutez des lettres majuscules\n",
            "mot de passe non valide\n"
          ]
        }
      ]
    },
    {
      "cell_type": "markdown",
      "source": [
        "## EX05\n",
        "### To do list\n",
        "1. Créez une fonction (`to_do_list()`) qui demande à l'utilisateur de choisir parmis 5 options\n",
        "    1. Ajouter un élément à la to do list\n",
        "    2. Retirer un élément de la to do list\n",
        "    3. Afficher les éléments de la to do list\n",
        "    4. Vider la to do list\n",
        "    5. Quitter le programme\n",
        "2. L'utilisateur doit entrer un nombre (entre 1 et 5) pour choisir l'option souhaité \n",
        "    * Vous devez verifier que l'input est un nombre\n",
        "    * Vous devez verifier que l'input est entre 1 et 5\n",
        "\n",
        "3. Implementez chancune des options de la fonction 😃\n",
        "\n",
        "3. Exemple de run du code ci dessous 👇"
      ],
      "metadata": {
        "id": "nu6wbxZnc2vL"
      }
    },
    {
      "cell_type": "code",
      "source": [
        "def to_do_list():\n",
        "  liste=['Nourrir le chat', 'préparer le cours de Python 👍', 'Manger', 'Dormir']\n",
        "  while(1):\n",
        "    \n",
        "    x=int(input(\"\"\" Entrer un nombre pour choisir parmis les options: \n",
        "\n",
        "  \t 1. Ajouter un élément à la to do list \n",
        "\n",
        "  \t 2. Retirer un élément de la to do list \n",
        "\n",
        "  \t 3. Afficher les éléments de la to do list \n",
        "\n",
        "  \t 4. Vider la to do list \n",
        "\n",
        "  \t 5. Quitter le programme \n",
        "     --> \"\"\"))\n",
        "    if x==1:\n",
        "      y=str(input('ajouter un élément à la to do list : '))\n",
        "      liste.append(y)\n",
        "    elif x==2:\n",
        "      i=1\n",
        "      print('to do list')\n",
        "      for a4 in liste :\n",
        "        print(f'{i}. {a4}')\n",
        "        i+=1\n",
        "      x1=int(input('retirer un élément de la to do list : '))\n",
        "      del liste[x1-1]\n",
        "      i=1\n",
        "      print('Nouvelle to do list')\n",
        "      for a3 in liste :\n",
        "        print(f'{i}. {a3}')\n",
        "        i=i+1\n",
        "    elif x==3:\n",
        "      i=1\n",
        "      print('to do list')\n",
        "      for a2 in liste :\n",
        "        print(f\"{i}. {a2}\")\n",
        "        i=i+1\n",
        "    elif x==4:\n",
        "      liste.clear()\n",
        "      print('to do list Vide')\n",
        "    if x==5:\n",
        "      break\n",
        "\n",
        "to_do_list()"
      ],
      "metadata": {
        "id": "FqgwJj-2USlc",
        "colab": {
          "base_uri": "https://localhost:8080/"
        },
        "outputId": "abdeda2f-2f95-4aaf-d004-0aa7605bd35e"
      },
      "execution_count": null,
      "outputs": [
        {
          "name": "stdout",
          "output_type": "stream",
          "text": [
            " Entrer un nombre pour choisir parmis les options: \n",
            "\n",
            "  \t 1. Ajouter un élément à la to do list \n",
            "\n",
            "  \t 2. Retirer un élément de la to do list \n",
            "\n",
            "  \t 3. Afficher les éléments de la to do list \n",
            "\n",
            "  \t 4. Vider la to do list \n",
            "\n",
            "  \t 5. Quitter le programme \n",
            "     --> 4\n",
            "to do list Vide\n",
            " Entrer un nombre pour choisir parmis les options: \n",
            "\n",
            "  \t 1. Ajouter un élément à la to do list \n",
            "\n",
            "  \t 2. Retirer un élément de la to do list \n",
            "\n",
            "  \t 3. Afficher les éléments de la to do list \n",
            "\n",
            "  \t 4. Vider la to do list \n",
            "\n",
            "  \t 5. Quitter le programme \n",
            "     --> 3\n",
            "to do list\n",
            " Entrer un nombre pour choisir parmis les options: \n",
            "\n",
            "  \t 1. Ajouter un élément à la to do list \n",
            "\n",
            "  \t 2. Retirer un élément de la to do list \n",
            "\n",
            "  \t 3. Afficher les éléments de la to do list \n",
            "\n",
            "  \t 4. Vider la to do list \n",
            "\n",
            "  \t 5. Quitter le programme \n",
            "     --> 1\n",
            "ajouter un élément à la to do list : dormir\n",
            " Entrer un nombre pour choisir parmis les options: \n",
            "\n",
            "  \t 1. Ajouter un élément à la to do list \n",
            "\n",
            "  \t 2. Retirer un élément de la to do list \n",
            "\n",
            "  \t 3. Afficher les éléments de la to do list \n",
            "\n",
            "  \t 4. Vider la to do list \n",
            "\n",
            "  \t 5. Quitter le programme \n",
            "     --> 3\n",
            "to do list\n",
            "1. dormir\n",
            " Entrer un nombre pour choisir parmis les options: \n",
            "\n",
            "  \t 1. Ajouter un élément à la to do list \n",
            "\n",
            "  \t 2. Retirer un élément de la to do list \n",
            "\n",
            "  \t 3. Afficher les éléments de la to do list \n",
            "\n",
            "  \t 4. Vider la to do list \n",
            "\n",
            "  \t 5. Quitter le programme \n",
            "     --> 5\n"
          ]
        }
      ]
    },
    {
      "cell_type": "code",
      "source": [
        "##"
      ],
      "metadata": {
        "id": "ixKJ8w3Wvmuq"
      },
      "execution_count": null,
      "outputs": []
    },
    {
      "cell_type": "markdown",
      "source": [
        "# Bonus (Mandatory)\n",
        "\n",
        "\n"
      ],
      "metadata": {
        "id": "XdJvMT9xVoRS"
      }
    },
    {
      "cell_type": "markdown",
      "source": [
        "## Github\n",
        "Pour soumettre votre travail: \n",
        "\n",
        "1.   Commit changes to a branch and push to [github](https://google.com)\n",
        "2.   Create pull request / merge request\n"
      ],
      "metadata": {
        "id": "94-12vgPXG10"
      }
    }
  ]
}